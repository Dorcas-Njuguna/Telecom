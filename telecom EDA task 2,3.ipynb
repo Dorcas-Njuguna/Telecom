{
 "cells": [
  {
   "cell_type": "code",
   "execution_count": null,
   "metadata": {},
   "outputs": [],
   "source": [
    "import pandas as pd\n",
    "from sqlalchemy import create_engine\n",
    "import numpy as p\n",
    "import matplotlib.pyplot as plt\n",
    "import seaborn as sns\n",
    "from seaborn import scatterplot\n",
    "from sklearn.preprocessing import StandardScaler\n",
    "from sklearn.cluster import KMeans\n",
    "\n",
    "\n",
    "\n",
    "\n",
    "database_name = 'telecom'\n",
    "table_name= 'xdr_data'\n",
    "\n",
    "connection_params = { \"host\": \"localhost\", \"user\": \"postgres\", \"password\": \"admin\",\n",
    "                    \"port\": \"5432\", \"database\": database_name}\n",
    "\n",
    "engine = create_engine(f\"postgresql+psycopg2://{connection_params['user']}:{connection_params['password']}@{connection_params['host']}:{connection_params['port']}/{connection_params['database']}\")\n"
   ]
  },
  {
   "cell_type": "markdown",
   "metadata": {},
   "source": [
    "## Loading the data and screening it"
   ]
  },
  {
   "cell_type": "code",
   "execution_count": null,
   "metadata": {},
   "outputs": [],
   "source": [
    "# str or SQLAlchemy Selectable (select or text object)\n",
    "sql_query = 'SELECT * FROM xdr_data'\n",
    "\n",
    "df = pd.read_sql(sql_query, con= engine)"
   ]
  },
  {
   "cell_type": "code",
   "execution_count": null,
   "metadata": {},
   "outputs": [],
   "source": [
    "# To get a concise summary of the dataset i.e. data types, missing data,..\n",
    "df.info()\n",
    "pd.set_option('display.max_rows', None)"
   ]
  },
  {
   "cell_type": "code",
   "execution_count": null,
   "metadata": {},
   "outputs": [],
   "source": [
    "# Display the first 10 rows of the dataframe\n",
    "df.head(10)"
   ]
  },
  {
   "cell_type": "code",
   "execution_count": null,
   "metadata": {},
   "outputs": [],
   "source": [
    "#List of column names\n",
    "print(df.columns)"
   ]
  },
  {
   "cell_type": "code",
   "execution_count": null,
   "metadata": {},
   "outputs": [],
   "source": [
    "# Find out the missing values\n",
    "df.isna().sum()"
   ]
  },
  {
   "cell_type": "code",
   "execution_count": null,
   "metadata": {},
   "outputs": [],
   "source": [
    "# Generate descriptive statistics\n",
    "df.describe()"
   ]
  },
  {
   "cell_type": "code",
   "execution_count": null,
   "metadata": {},
   "outputs": [],
   "source": [
    "#Returning a tuple with dimensions of the dataframe\n",
    "print(df.shape)"
   ]
  },
  {
   "cell_type": "markdown",
   "metadata": {},
   "source": [
    "## Task 2 sub tasks."
   ]
  },
  {
   "cell_type": "code",
   "execution_count": null,
   "metadata": {},
   "outputs": [],
   "source": [
    "# Identifying the top 10 of handsets used by the customers.\n",
    "top_10_of_handsets =df['Handset Type'].value_counts().head(10)\n",
    "print(\"Top 10 Handsets:\")\n",
    "print(top_10_of_handsets)"
   ]
  },
  {
   "cell_type": "code",
   "execution_count": null,
   "metadata": {},
   "outputs": [],
   "source": [
    "#Identify the top 3 handset manufacturers by count\n",
    "top_3_manufacturers = df['Handset Manufacturer'].value_counts().head(3)\n",
    "\n",
    "print(\"Top 3 Handset Manufacturers:\")\n",
    "print(top_3_manufacturers)"
   ]
  },
  {
   "cell_type": "code",
   "execution_count": null,
   "metadata": {},
   "outputs": [],
   "source": [
    "#Find out the top 5 handsets in each of the top three manufactures\n",
    "top_3_manufacturers = df['Handset Manufacturer'].value_counts().head(3).index.tolist()\n",
    "filtered_df = df[df['Handset Manufacturer'].isin(top_3_manufacturers)]\n",
    "top_5_handsets_per_manufacturer = filtered_df.groupby('Handset Manufacturer')['Handset Type'].value_counts().groupby('Handset Manufacturer').head(5)\n",
    "\n",
    "print(\"Top 5 Handsets per Top 3 of the Handset Manufacturers:\")\n",
    "print(top_5_handsets_per_manufacturer)"
   ]
  },
  {
   "cell_type": "code",
   "execution_count": null,
   "metadata": {},
   "outputs": [],
   "source": [
    "#Find out the bottom 5 handsets in each of the bottom three manufactures\n",
    "bottom_3_manufacturers = df['Handset Manufacturer'].value_counts().tail(3).index.tolist()\n",
    "filtered_df = df[df['Handset Manufacturer'].isin(bottom_3_manufacturers)]\n",
    "bottom_5_handsets_per_manufacturer = filtered_df.groupby('Handset Manufacturer')['Handset Type'].value_counts().groupby('Handset Manufacturer').tail(5)\n",
    "\n",
    "print(\"Botttom 5 Handsets per bottom 3 of the Handset Manufacturers:\")\n",
    "print(bottom_5_handsets_per_manufacturer)"
   ]
  },
  {
   "cell_type": "code",
   "execution_count": null,
   "metadata": {},
   "outputs": [],
   "source": [
    "# Interpretation:\n",
    "# The most used handset is Huawei B528S-23A.  It is also the only handset from the Huawei Manufacturer that appears in the top 10 most used handsets.\n",
    "# I phone handsets seem to have the highest number of users as they take up 7 positions in top 10 mosted used handsets. \n",
    "# The top three handset manufacturers are Apple, Samsung, huawei respectively with each producing over 34400 handsets.\n",
    "# In each the top 3 manufacturers, the leading handset also appears in the top 10 of the most used handsets. Also, all the top 5 handsets in the manufacturer, Apple, also \n",
    "# appear in the top 10 most used handsets overall.\n",
    "\n",
    "# Recommendations:\n",
    "# The marketing team should consider partnering with the handset manufactures, in a mutually benefitting way, in order to give promotions to customers using the top 10 handsets to enhance customer retention.\n",
    "# They could also do the same for the least used handsets in order to broaden their customer base. \n"
   ]
  },
  {
   "cell_type": "markdown",
   "metadata": {},
   "source": [
    "# Task 2.1\n",
    "## Overview of the users behaviour."
   ]
  },
  {
   "cell_type": "markdown",
   "metadata": {},
   "source": [
    "# number of xDR sessions per user"
   ]
  },
  {
   "cell_type": "code",
   "execution_count": null,
   "metadata": {},
   "outputs": [],
   "source": [
    "# Select columns pertaining to applications and user data\n",
    "user_app_columns = ['Bearer Id', 'Handset Manufacturer', 'Handset Type', 'Social Media DL (Bytes)',\n",
    "                    'Social Media UL (Bytes)', 'Google DL (Bytes)', 'Google UL (Bytes)',\n",
    "                    'Email DL (Bytes)', 'Email UL (Bytes)', 'Youtube DL (Bytes)', 'Youtube UL (Bytes)',\n",
    "                    'Netflix DL (Bytes)', 'Netflix UL (Bytes)', 'Gaming DL (Bytes)', 'Gaming UL (Bytes)',\n",
    "                    'Other DL (Bytes)', 'Other UL (Bytes)']"
   ]
  },
  {
   "cell_type": "code",
   "execution_count": null,
   "metadata": {},
   "outputs": [],
   "source": [
    "df_user_apps = df[user_app_columns]"
   ]
  },
  {
   "cell_type": "code",
   "execution_count": null,
   "metadata": {},
   "outputs": [],
   "source": [
    "# To count the number of xDR sessions per user\n",
    "\n",
    "df_user_apps['Number of xDR Sessions'] = df_user_apps.groupby('Bearer Id')['Bearer Id'].transform('count')"
   ]
  },
  {
   "cell_type": "code",
   "execution_count": null,
   "metadata": {},
   "outputs": [],
   "source": [
    "# Extracting the relevant columns for the result\n",
    "result_columns = ['Bearer Id', 'Number of xDR Sessions']\n",
    "\n",
    "result = df_user_apps[result_columns].drop_duplicates().reset_index(drop=True)\n",
    "print(result)"
   ]
  },
  {
   "cell_type": "code",
   "execution_count": null,
   "metadata": {},
   "outputs": [],
   "source": [
    "# Aggregate session duration per user\n",
    "session_dur_per_user = df.groupby('Bearer Id')['Dur. (ms)'].sum().reset_index(name='Session Duration (ms)')\n",
    "\n",
    "print(session_dur_per_user)"
   ]
  },
  {
   "cell_type": "code",
   "execution_count": null,
   "metadata": {},
   "outputs": [],
   "source": [
    "# Aggregate the total download and upload data per user\n",
    "total_data_per_user =pd.DataFrame (df.groupby('Bearer Id')[['Total DL (Bytes)', 'Total UL (Bytes)']].sum().reset_index())\n",
    "\n",
    "print(total_data_per_user)"
   ]
  },
  {
   "cell_type": "code",
   "execution_count": null,
   "metadata": {},
   "outputs": [],
   "source": [
    "# Define the columns related to applications\n",
    "application_columns = ['Bearer Id', 'Social Media DL (Bytes)', 'Social Media UL (Bytes)',\n",
    "                        'Google DL (Bytes)', 'Google UL (Bytes)', 'Email DL (Bytes)',\n",
    "                        'Email UL (Bytes)', 'Youtube DL (Bytes)', 'Youtube UL (Bytes)',\n",
    "                         'Netflix DL (Bytes)', 'Netflix UL (Bytes)', 'Gaming DL (Bytes)',\n",
    "                         'Gaming UL (Bytes)', 'Other DL (Bytes)', 'Other UL (Bytes)'\n",
    "                        \n",
    "                       ]\n",
    "\n",
    "# Aggregate the total data volume per user and application\n",
    "total_data_per_user_app = df[application_columns].groupby('Bearer Id').sum().reset_index()\n",
    "\n",
    "print(total_data_per_user_app)"
   ]
  },
  {
   "cell_type": "markdown",
   "metadata": {},
   "source": [
    "# Task 2.2"
   ]
  },
  {
   "cell_type": "code",
   "execution_count": null,
   "metadata": {},
   "outputs": [],
   "source": [
    "# Creating separate dataframes for columns with numbers and objects.\n",
    "num_col = df.select_dtypes (include = ['number']).columns\n",
    "cat_col = df.select_dtypes (include = ['object']).columns\n",
    "\n",
    "df_num = df[num_col]\n",
    "df_cat = df[cat_col]\n",
    "\n",
    "print(\"Numerical Columns:\", num_col)\n",
    "print(\"Categorical Columns:\", cat_col)"
   ]
  },
  {
   "cell_type": "code",
   "execution_count": null,
   "metadata": {},
   "outputs": [],
   "source": [
    "# filling in missing values with mean\n",
    "df_num = df_num.fillna(df_num.mean())"
   ]
  },
  {
   "cell_type": "code",
   "execution_count": null,
   "metadata": {},
   "outputs": [],
   "source": [
    "# Checking for missing values\n",
    "df_num.isna().sum()"
   ]
  },
  {
   "cell_type": "code",
   "execution_count": null,
   "metadata": {},
   "outputs": [],
   "source": [
    "# Replacing outliers with mean\n",
    "\n",
    "def replace_outliers_with_mean(df_num, threshold=3):\n",
    "    for col in df_num.columns:\n",
    "        z_scores = (df_num[col] - df_num[col].mean()) / df_num[col].std()\n",
    "        outlier_mask = (z_scores > threshold) | (z_scores < -threshold)\n",
    "        df_num[col][outlier_mask] = df_num[col].mean()\n",
    "    return df_num\n",
    "\n",
    "df_num = replace_outliers_with_mean(df_num)"
   ]
  },
  {
   "cell_type": "code",
   "execution_count": null,
   "metadata": {},
   "outputs": [],
   "source": [
    "# Basic metrics\n",
    "df_num.describe()"
   ]
  },
  {
   "cell_type": "code",
   "execution_count": null,
   "metadata": {},
   "outputs": [],
   "source": [
    "correlation_matrix = df_num.corr()\n",
    "print(correlation_matrix)"
   ]
  },
  {
   "cell_type": "code",
   "execution_count": null,
   "metadata": {},
   "outputs": [],
   "source": [
    "\n",
    "\n",
    "columns_to_plot = ['Dur. (ms)', 'Avg RTT DL (ms)',\n",
    "                   'Avg RTT UL (ms)', 'Avg Bearer TP DL (kbps)', 'Avg Bearer TP UL (kbps)',  \n",
    "                   'Social Media DL (Bytes)', 'Social Media UL (Bytes)',\n",
    "                    'Google DL (Bytes)', 'Google UL (Bytes)', 'Email DL (Bytes)',\n",
    "                    'Email UL (Bytes)', 'Youtube DL (Bytes)', 'Youtube UL (Bytes)',\n",
    "                    'Netflix DL (Bytes)', 'Netflix UL (Bytes)', 'Gaming DL (Bytes)',\n",
    "                    'Gaming UL (Bytes)', 'Other DL (Bytes)', 'Other UL (Bytes)']\n",
    "\n",
    "# Set up subplots\n",
    "num_plots = len(columns_to_plot)\n",
    "fig, axes = plt.subplots(nrows=num_plots, ncols=1, figsize=(10, 4 * num_plots))\n",
    "\n",
    "# Plot histograms for the columns\n",
    "for i, column in enumerate(columns_to_plot):\n",
    "    axes[i].hist(df_num[column], bins=20, color='skyblue', edgecolor='black')\n",
    "    axes[i].set_title(f'Histogram of {column}')\n",
    "    axes[i].set_xlabel(column)\n",
    "    axes[i].set_ylabel('Frequency')\n",
    "\n",
    "# Adjust layout\n",
    "plt.tight_layout()\n",
    "plt.show()"
   ]
  },
  {
   "cell_type": "code",
   "execution_count": null,
   "metadata": {},
   "outputs": [],
   "source": [
    "\n",
    "columns_to_plot = ['Dur. (ms)', 'Avg RTT DL (ms)',\n",
    "                   'Avg RTT UL (ms)', 'Avg Bearer TP DL (kbps)', 'Avg Bearer TP UL (kbps)',\n",
    "                   'Social Media DL (Bytes)', 'Social Media UL (Bytes)',\n",
    "                   'Google DL (Bytes)', 'Google UL (Bytes)', 'Email DL (Bytes)',\n",
    "                   'Email UL (Bytes)', 'Youtube DL (Bytes)', 'Youtube UL (Bytes)',\n",
    "                   'Netflix DL (Bytes)', 'Netflix UL (Bytes)', 'Gaming DL (Bytes)',\n",
    "                   'Gaming UL (Bytes)', 'Other DL (Bytes)', 'Other UL (Bytes)']\n",
    "\n",
    "# Set up subplots\n",
    "num_plots = len(columns_to_plot)\n",
    "fig, axes = plt.subplots(nrows=num_plots, ncols=1, figsize=(10, 4 * num_plots))\n",
    "\n",
    "# Plot box plots for the columns\n",
    "for i, column in enumerate(columns_to_plot):\n",
    "    axes[i].boxplot(df_num[column])\n",
    "    axes[i].set_title(f'Box Plot of {column}')\n",
    "    axes[i].set_xlabel(column)\n",
    "    axes[i].set_ylabel('Value')\n",
    "\n",
    "# Adjust layout\n",
    "plt.tight_layout()\n",
    "plt.show()"
   ]
  },
  {
   "cell_type": "code",
   "execution_count": null,
   "metadata": {},
   "outputs": [],
   "source": [
    "df_num['Total Bytes Sum'] = df_num['Total DL (Bytes)'] + df_num['Total UL (Bytes)']\n",
    "print(df_num['Total Bytes Sum'])"
   ]
  },
  {
   "cell_type": "code",
   "execution_count": null,
   "metadata": {},
   "outputs": [],
   "source": [
    "#Define the social media columns and find their correlations to the Total Bytes\n",
    "\n",
    "application_columns2 = ['Social Media DL (Bytes)', 'Social Media UL (Bytes)',\n",
    "                        'Google DL (Bytes)', 'Google UL (Bytes)', 'Email DL (Bytes)',\n",
    "                        'Email UL (Bytes)', 'Youtube DL (Bytes)', 'Youtube UL (Bytes)',\n",
    "                         'Netflix DL (Bytes)', 'Netflix UL (Bytes)', 'Gaming DL (Bytes)',\n",
    "                         'Gaming UL (Bytes)', 'Other DL (Bytes)', 'Other UL (Bytes)'\n",
    "                        \n",
    "                       ]\n",
    "\n",
    "\n",
    "correlations = df_num[application_columns2 + ['Total Bytes Sum']]. corr()\n",
    "correlations"
   ]
  },
  {
   "cell_type": "code",
   "execution_count": null,
   "metadata": {},
   "outputs": [],
   "source": [
    "\n",
    "for app_column in application_columns2:\n",
    "    plt.figure(figsize=(8, 6))\n",
    "    sns.scatterplot(x='Total Bytes Sum', y=app_column, data=df_num)  \n",
    "    plt.title(f'Scatter Plot: {app_column} vs Total Bytes Sum')\n",
    "    plt.xlabel('Total Bytes Sum')\n",
    "    plt.ylabel(app_column)\n",
    "    plt.show()\n"
   ]
  },
  {
   "cell_type": "code",
   "execution_count": null,
   "metadata": {},
   "outputs": [],
   "source": [
    "correlation_matrix = df_num[application_columns2 + ['Total Bytes Sum']].corr()\n",
    "sns.heatmap(correlation_matrix, annot=True, cmap='coolwarm', fmt='.2f')\n",
    "plt.show()      \n",
    "            "
   ]
  },
  {
   "cell_type": "code",
   "execution_count": null,
   "metadata": {},
   "outputs": [],
   "source": [
    "df_num['Total Duration'] = df_num['Dur. (ms)']\n",
    "\n",
    "# Creating decile classes based on total duration.\n",
    "df_num['Duration Decile'] = pd.qcut(df_num['Total Duration'], q=[0, 0.2, 0.4, 0.6, 0.8, 1], labels=False, precision=0)\n",
    "\n",
    "# Group by 'MSISDN/Number' and 'Duration Decile', then compute the sum of 'Total Bytes Sum' for each group\n",
    "decile_totals = df_num.groupby(['MSISDN/Number', 'Duration Decile'])['Total Bytes Sum'].sum().reset_index()\n",
    "\n",
    "# Get the top five decile classes\n",
    "top_five_deciles = decile_totals.groupby('Duration Decile')['Total Bytes Sum'].sum().nlargest(5).index\n",
    "\n",
    "# Filter the DataFrame for the top five decile classes\n",
    "top_five_deciles_data = decile_totals[decile_totals['Duration Decile'].isin(top_five_deciles)]\n",
    "\n",
    "# Display the result\n",
    "print(top_five_deciles_data)"
   ]
  },
  {
   "cell_type": "code",
   "execution_count": null,
   "metadata": {},
   "outputs": [],
   "source": [
    "# Subset the DataFrame with the application columns.\n",
    "subset_df = df_num[application_columns2]\n",
    "\n",
    "# Calculate the correlation matrix\n",
    "correlation_matrix = subset_df.corr\n",
    "\n",
    "print(correlation_matrix)"
   ]
  },
  {
   "cell_type": "markdown",
   "metadata": {},
   "source": [
    "## Task 3 User Engagement Analysis"
   ]
  },
  {
   "cell_type": "code",
   "execution_count": null,
   "metadata": {},
   "outputs": [],
   "source": [
    "#Aggregate the above metrics per customer id (MSISDN) and report the top 10 customers per engagement metric \n",
    "engagement_metrics = ['sessions frequency', 'session duration', 'sessions total traffic']\n",
    "\n",
    "df_num['Start'] = pd.to_datetime(df_num['Start ms'], unit='ms')\n",
    "df_num['End'] = pd.to_datetime(df_num['End ms'], unit='ms')\n",
    "\n",
    "df_num['session duration'] = (df_num['End'] - df_num['Start']).dt.total_seconds()\n",
    "\n",
    "df_engagement = df_num.groupby('MSISDN/Number').agg({\n",
    "    'Bearer Id': 'count',                         # sessions frequency\n",
    "    'session duration': 'sum',                   # session duration\n",
    "    'Total Bytes Sum': 'sum'  # sessions total traffic\n",
    "}).reset_index()\n",
    "\n",
    "df_engagement.columns = ['MSISDN', 'sessions frequency', 'session duration', 'sessions total traffic']\n",
    "\n",
    "for metric in engagement_metrics:\n",
    "    top_10_customers = df_engagement.nlargest(10, metric)\n",
    "    print(f\"Top 10 customers by {metric}:\\n{top_10_customers[['MSISDN', metric]]}\\n\")\n"
   ]
  },
  {
   "cell_type": "code",
   "execution_count": null,
   "metadata": {},
   "outputs": [],
   "source": [
    "# Normalize each engagement metric and run a k-means (k=3) to classify customers in three groups of engagement. \n",
    "engagement_metrics_for_clustering = ['sessions frequency', 'session duration', 'sessions total traffic']\n",
    "\n",
    "engagement_data = df_engagement[engagement_metrics_for_clustering]\n",
    "\n",
    "scaler = StandardScaler()\n",
    "normalized_engagement_data = scaler.fit_transform(engagement_data)\n",
    "\n",
    "kmeans = KMeans(n_clusters=3, random_state=42)\n",
    "df_engagement['Cluster'] = kmeans.fit_predict(normalized_engagement_data)\n",
    "\n",
    "print(\"K-Means Clustering Results:\")\n",
    "print(df_engagement[['MSISDN', 'Cluster']])"
   ]
  },
  {
   "cell_type": "code",
   "execution_count": null,
   "metadata": {},
   "outputs": [],
   "source": [
    "# Compute the minimum, maximum, average & total non-normalized metrics for each cluster. Interpret your results visually with accompanying text explaining your findings.\n",
    "original_metrics = ['sessions frequency', 'session duration', 'sessions total traffic']\n",
    "\n",
    "cluster_summary = df_engagement.groupby('MSISDN')[original_metrics].agg(['min', 'max', 'mean', 'sum']).reset_index()\n",
    "\n",
    "print(\"Cluster Summary:\")\n",
    "print(cluster_summary)\n"
   ]
  },
  {
   "cell_type": "code",
   "execution_count": null,
   "metadata": {},
   "outputs": [],
   "source": [
    "\n",
    "original_metrics = ['sessions frequency', 'session duration', 'sessions total traffic']\n",
    "\n",
    "cluster_summary = df_engagement.groupby('Cluster')[original_metrics].agg(['min', 'max', 'mean', 'sum']).reset_index()\n",
    "\n",
    "print(\"Cluster Summary:\")\n",
    "print(cluster_summary)\n",
    "\n",
    "\n",
    "plt.figure(figsize=(10, 6))\n",
    "sns.barplot(x='Cluster', y='sessions frequency', data=df_engagement)\n",
    "plt.title('Sessions Frequency by Cluster')\n",
    "plt.show()\n",
    "\n",
    "\n",
    "plt.figure(figsize=(10, 6))\n",
    "sns.barplot(x='Cluster', y='session duration', data=df_engagement)\n",
    "plt.title('Sessions duration by Cluster')\n",
    "plt.show()\n",
    "\n",
    "plt.figure(figsize=(10, 6))\n",
    "sns.barplot(x='Cluster', y='sessions total traffic', data=df_engagement)\n",
    "plt.title('Sessions total traffic by Cluster')\n",
    "plt.show()\n"
   ]
  },
  {
   "cell_type": "code",
   "execution_count": null,
   "metadata": {},
   "outputs": [],
   "source": [
    "# Aggregate user total traffic per application and derive the top 10 most engaged users per application.\n",
    "import pandas as pd\n",
    "\n",
    "# Assuming 'IMEI' is the correct column name\n",
    "user_identifier = 'IMEI'\n",
    "\n",
    "# Assuming you have columns like 'Social Media DL (Bytes)', 'Social Media UL (Bytes)', etc.\n",
    "application_columns = ['Social Media DL (Bytes)', 'Social Media UL (Bytes)',\n",
    "                        'Google DL (Bytes)', 'Google UL (Bytes)', 'Email DL (Bytes)',\n",
    "                        'Email UL (Bytes)', 'Youtube DL (Bytes)', 'Youtube UL (Bytes)',\n",
    "                        'Netflix DL (Bytes)', 'Netflix UL (Bytes)', 'Gaming DL (Bytes)',\n",
    "                        'Gaming UL (Bytes)', 'Other DL (Bytes)', 'Other UL (Bytes)']\n",
    "\n",
    "# Selecting relevant columns\n",
    "columns_of_interest = [user_identifier] + application_columns\n",
    "\n",
    "# Creating a new DataFrame with relevant columns\n",
    "df_app_traffic = df_num[columns_of_interest]\n",
    "\n",
    "# Handling possible missing values in the columns\n",
    "df_app_traffic[application_columns] = df_app_traffic[application_columns].fillna(0)\n",
    "\n",
    "# Aggregating total traffic per application for each user\n",
    "df_app_traffic['Total Traffic'] = df_app_traffic[application_columns].sum(axis=1)\n",
    "\n",
    "# Sorting the DataFrame by 'Total Traffic' in descending order\n",
    "df_app_traffic = df_app_traffic.sort_values(by='Total Traffic', ascending=False)\n",
    "\n",
    "# Grouping by each application and finding the top 10 most engaged users\n",
    "top_users_per_app = df_app_traffic.groupby(user_identifier).head(10).reset_index(drop=True)\n",
    "\n",
    "# Displaying the top users per application\n",
    "print(top_users_per_app)\n",
    "\n",
    "\n",
    "\n"
   ]
  },
  {
   "cell_type": "code",
   "execution_count": null,
   "metadata": {},
   "outputs": [],
   "source": []
  },
  {
   "cell_type": "code",
   "execution_count": null,
   "metadata": {},
   "outputs": [],
   "source": []
  },
  {
   "cell_type": "code",
   "execution_count": null,
   "metadata": {},
   "outputs": [],
   "source": []
  },
  {
   "cell_type": "code",
   "execution_count": null,
   "metadata": {},
   "outputs": [],
   "source": []
  },
  {
   "cell_type": "markdown",
   "metadata": {},
   "source": [
    "# Task 4 Experience Analysis.\n"
   ]
  },
  {
   "cell_type": "code",
   "execution_count": null,
   "metadata": {},
   "outputs": [],
   "source": [
    "# Filing in missing values in my categorical dataframe.\n",
    "for column in df_cat.columns:\n",
    "    df_cat[column] = df_cat[column].fillna(df_cat[column].mode()[0])"
   ]
  },
  {
   "cell_type": "code",
   "execution_count": null,
   "metadata": {},
   "outputs": [],
   "source": [
    "df_cat.isna().sum()"
   ]
  },
  {
   "cell_type": "code",
   "execution_count": null,
   "metadata": {},
   "outputs": [],
   "source": [
    "# Create a new column for the total TCP retransmission volume\n",
    "df_num['Total TCP Retrans. Vol (Bytes)'] = df_num['TCP DL Retrans. Vol (Bytes)'] + df_num['TCP UL Retrans. Vol (Bytes)']\n",
    "\n",
    "# Group by ' 'MSISDN/Number'' and calculate the average TCP retransmission for each customer\n",
    "agg_df = df_num.groupby( 'MSISDN/Number')['Total TCP Retrans. Vol (Bytes)'].mean().reset_index()\n",
    "\n",
    "print(agg_df)"
   ]
  },
  {
   "cell_type": "code",
   "execution_count": null,
   "metadata": {},
   "outputs": [],
   "source": [
    "# Create a new column for the total RTT (sum of DL and UL)\n",
    "df_num['Total RTT (ms)'] = df_num['Avg RTT DL (ms)'] + df_num['Avg RTT UL (ms)']\n",
    "\n",
    "# Group by 'MSISDN' and calculate the average RTT for each customer\n",
    "agg_rtt_df = df_num.groupby('MSISDN/Number')['Total RTT (ms)'].mean().reset_index()\n",
    "\n",
    "print(agg_rtt_df)"
   ]
  },
  {
   "cell_type": "code",
   "execution_count": null,
   "metadata": {},
   "outputs": [],
   "source": [
    "# Aggregate, per customer, Handset type\n",
    "\n",
    "agg_handset_df = df.groupby('MSISDN/Number')['Handset Type'].agg(lambda x: x.mode().iloc[0] if not x.mode().empty else None).reset_index()\n",
    "\n",
    "print(agg_handset_df)"
   ]
  },
  {
   "cell_type": "code",
   "execution_count": null,
   "metadata": {},
   "outputs": [],
   "source": [
    "# Create a new column for the total throughput (sum of DL and UL)\n",
    "df['Total Throughput (kbps)'] = df['Avg Bearer TP DL (kbps)'] + df['Avg Bearer TP UL (kbps)']\n",
    "\n",
    "# Group by 'MSISDN' and calculate the average throughput for each customer\n",
    "agg_throughput_df = df.groupby('MSISDN/Number')['Total Throughput (kbps)'].mean().reset_index()\n",
    "\n",
    "print(agg_throughput_df)"
   ]
  },
  {
   "cell_type": "code",
   "execution_count": null,
   "metadata": {},
   "outputs": [],
   "source": [
    "\n",
    "# Extract TCP values from the DataFrame\n",
    "tcp_values = df_num[['TCP DL Retrans. Vol (Bytes)', 'TCP UL Retrans. Vol (Bytes)']].stack().reset_index(drop=True)\n",
    "\n",
    "top_tcp_values = tcp_values.nlargest(10)\n",
    "print(\"Top 10 TCP values:\")\n",
    "print(top_tcp_values)\n",
    "\n",
    "bottom_tcp_values = tcp_values.nsmallest(10)\n",
    "print(\"\\nBottom 10 TCP values:\")\n",
    "print(bottom_tcp_values)\n",
    "\n",
    "most_frequent_tcp_values = tcp_values.value_counts().head(10)\n",
    "print(\"\\nMost frequent TCP values:\")\n",
    "print(most_frequent_tcp_values)\n"
   ]
  },
  {
   "cell_type": "code",
   "execution_count": null,
   "metadata": {},
   "outputs": [],
   "source": [
    "\n",
    "# Extract RTT values from the DataFrame\n",
    "rtt_values = df[['Avg RTT DL (ms)', 'Avg RTT UL (ms)']].stack().reset_index(drop=True)\n",
    "\n",
    "top_rtt_values = rtt_values.nlargest(10)\n",
    "print(\"Top 10 RTT values:\")\n",
    "print(top_rtt_values)\n",
    "\n",
    "bottom_rtt_values = rtt_values.nsmallest(10)\n",
    "print(\"\\nBottom 10 RTT values:\")\n",
    "print(bottom_rtt_values)\n",
    "\n",
    "most_frequent_rtt_values = rtt_values.value_counts().head(10)\n",
    "print(\"\\nMost frequent RTT values:\")\n",
    "print(most_frequent_rtt_values)\n"
   ]
  },
  {
   "cell_type": "code",
   "execution_count": null,
   "metadata": {},
   "outputs": [],
   "source": [
    "\n",
    "# Extract Throughput values from the DataFrame\n",
    "throughput_values = df_num[['Avg Bearer TP DL (kbps)', 'Avg Bearer TP UL (kbps)']].stack().reset_index(drop=True)\n",
    "\n",
    "# Display the top 10 Throughput values\n",
    "top_throughput_values = throughput_values.nlargest(10)\n",
    "print(\"Top 10 Throughput values:\")\n",
    "print(top_throughput_values)\n",
    "\n",
    "# Display the bottom 10 Throughput values\n",
    "bottom_throughput_values = throughput_values.nsmallest(10)\n",
    "print(\"\\nBottom 10 Throughput values:\")\n",
    "print(bottom_throughput_values)\n",
    "\n",
    "# Display the most frequent Throughput values\n",
    "most_frequent_throughput_values = throughput_values.value_counts().head(10)\n",
    "print(\"\\nMost frequent Throughput values:\")\n",
    "print(most_frequent_throughput_values)\n"
   ]
  },
  {
   "cell_type": "code",
   "execution_count": null,
   "metadata": {},
   "outputs": [],
   "source": [
    "# Create a new column for the total throughput (sum of DL and UL)\n",
    "df['Total Throughput (kbps)'] = df['Avg Bearer TP DL (kbps)'] + df['Avg Bearer TP UL (kbps)']\n",
    "\n",
    "# Group by 'Handset Type' and calculate the average throughput for each handset type\n",
    "throughput_by_handset = df.groupby('Handset Type')['Total Throughput (kbps)'].mean().reset_index()\n",
    "\n",
    "# Plot a histogram to visualize the distribution of average throughput\n",
    "plt.figure(figsize=(10, 6))\n",
    "plt.hist(throughput_by_handset['Total Throughput (kbps)'], bins=20, color='blue', edgecolor='black')\n",
    "plt.title('Distribution of Average Throughput by Handset Type')\n",
    "plt.xlabel('Average Throughput (kbps)')\n",
    "plt.ylabel('Frequency')\n",
    "plt.grid(True)\n",
    "plt.show()\n",
    "\n",
    "# Display the summary statistics of average throughput by handset type\n",
    "print(\"Summary Statistics of Average Throughput by Handset Type:\")\n",
    "print(throughput_by_handset.describe())\n",
    "\n",
    "# Display the distribution of average throughput by handset type\n",
    "print(\"Distribution of Average Throughput by Handset Type:\")\n",
    "print(throughput_by_handset)\n",
    "\n"
   ]
  },
  {
   "cell_type": "code",
   "execution_count": null,
   "metadata": {},
   "outputs": [],
   "source": [
    "df\n",
    "# Create a new column for the total TCP retransmission volume\n",
    "df['Total TCP Retrans. Vol (Bytes)'] = df['TCP DL Retrans. Vol (Bytes)'] + df_num['TCP UL Retrans. Vol (Bytes)']\n",
    "\n",
    "# Group by 'Handset Type' and calculate the average TCP retransmission for each handset type\n",
    "tcp_retransmission_by_handset = df.groupby('Handset Type')['Total TCP Retrans. Vol (Bytes)'].mean().reset_index()\n",
    "\n",
    "# Display the top 10 and bottom 10 handsets based on average TCP retransmission\n",
    "top_10_handsets = tcp_retransmission_by_handset.nlargest(10, 'Total TCP Retrans. Vol (Bytes)')\n",
    "bottom_10_handsets = tcp_retransmission_by_handset.nsmallest(10, 'Total TCP Retrans. Vol (Bytes)')\n",
    "\n",
    "print(\"Top 10 Handsets:\")\n",
    "print(top_10_handsets)\n",
    "\n",
    "print(\"\\nBottom 10 Handsets:\")\n",
    "print(bottom_10_handsets)\n",
    "\n"
   ]
  },
  {
   "cell_type": "code",
   "execution_count": 255,
   "metadata": {},
   "outputs": [
    {
     "name": "stderr",
     "output_type": "stream",
     "text": [
      "c:\\Users\\Dorcas\\Anaconda installation files\\envs\\programmingexpert\\Lib\\site-packages\\sklearn\\cluster\\_kmeans.py:1416: FutureWarning: The default value of `n_init` will change from 10 to 'auto' in 1.4. Set the value of `n_init` explicitly to suppress the warning\n",
      "  super()._check_params_vs_input(X, default_n_init=10)\n"
     ]
    },
    {
     "name": "stdout",
     "output_type": "stream",
     "text": [
      "Number of users in each cluster:\n",
      "Cluster\n",
      "1    114842\n",
      "0     32702\n",
      "2      2457\n",
      "Name: count, dtype: int64\n"
     ]
    },
    {
     "data": {
      "image/png": "[encoded data removed]",
      "text/plain": [
       "<Figure size 1000x600 with 1 Axes>"
      ]
     },
     "metadata": {},
     "output_type": "display_data"
    }
   ],
   "source": [
    "\n",
    "\n",
    "# Select relevant features for clustering\n",
    "selected_features = df_num[['Avg RTT DL (ms)', 'Avg RTT UL (ms)', 'Total Throughput (kbps)']]\n",
    "\n",
    "# Standardize the features\n",
    "scaler = StandardScaler()\n",
    "scaled_features = scaler.fit_transform(selected_features)\n",
    "\n",
    "# Perform k-means clustering with k=3\n",
    "kmeans = KMeans(n_clusters=3, random_state=42)\n",
    "df_num['Cluster'] = kmeans.fit_predict(scaled_features)\n",
    "\n",
    "# Display the count of users in each cluster\n",
    "print(\"Number of users in each cluster:\")\n",
    "print(df_num['Cluster'].value_counts())\n",
    "\n",
    "# Plot clusters in 3D space for the first three features\n",
    "fig = plt.figure(figsize=(10, 6))\n",
    "ax = fig.add_subplot(111, projection='3d')\n",
    "ax.scatter(df_num['Avg RTT DL (ms)'], df_num['Avg RTT UL (ms)'], df_num['Total Throughput (kbps)'], c=df_num['Cluster'], cmap='viridis', s=50)\n",
    "ax.set_xlabel('Avg RTT DL (ms)')\n",
    "ax.set_ylabel('Avg RTT UL (ms)')\n",
    "ax.set_zlabel('Total Throughput (kbps)')\n",
    "plt.title('K-Means Clustering of User Experiences')\n",
    "plt.show()\n"
   ]
  },
  {
   "cell_type": "markdown",
   "metadata": {},
   "source": [
    "## Task 5 Satisfaction Analysis"
   ]
  },
  {
   "cell_type": "code",
   "execution_count": null,
   "metadata": {},
   "outputs": [],
   "source": []
  }
 ],
 "metadata": {
  "kernelspec": {
   "display_name": "programmingexpert",
   "language": "python",
   "name": "python3"
  },
  "language_info": {
   "codemirror_mode": {
    "name": "ipython",
    "version": 3
   },
   "file_extension": ".py",
   "mimetype": "text/x-python",
   "name": "python",
   "nbconvert_exporter": "python",
   "pygments_lexer": "ipython3",
   "version": "3.11.5"
  }
 },
 "nbformat": 4,
 "nbformat_minor": 2
}
