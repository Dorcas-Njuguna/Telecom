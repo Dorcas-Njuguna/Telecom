{
 "cells": [
  {
   "cell_type": "code",
   "execution_count": 14,
   "metadata": {},
   "outputs": [],
   "source": [
    "import pandas as pd\n",
    "from sqlalchemy import create_engine\n",
    "\n",
    "database_name = 'telecom'\n",
    "table_name= 'xdr_data'\n",
    "\n",
    "connection_params = { \"host\": \"localhost\", \"user\": \"postgres\", \"password\": \"admin\",\n",
    "                    \"port\": \"5432\", \"database\": database_name}\n",
    "\n",
    "engine = create_engine(f\"postgresql+psycopg2://{connection_params['user']}:{connection_params['password']}@{connection_params['host']}:{connection_params['port']}/{connection_params['database']}\")\n"
   ]
  },
  {
   "cell_type": "markdown",
   "metadata": {},
   "source": [
    "## Loading the data and screening it"
   ]
  },
  {
   "cell_type": "code",
   "execution_count": 28,
   "metadata": {},
   "outputs": [],
   "source": [
    "# str or SQLAlchemy Selectable (select or text object)\n",
    "sql_query = 'SELECT * FROM xdr_data'\n",
    "\n",
    "df = pd.read_sql(sql_query, con= engine)"
   ]
  },
  {
   "cell_type": "code",
   "execution_count": null,
   "metadata": {},
   "outputs": [],
   "source": [
    "# To get a concise summary of the dataset i.e. data types, missing data,..\n",
    "df.info()\n",
    "pd.set_option('display.max_rows', None)"
   ]
  },
  {
   "cell_type": "code",
   "execution_count": null,
   "metadata": {},
   "outputs": [],
   "source": [
    "# Display the first 10 rows of the dataframe\n",
    "df.head(10)"
   ]
  },
  {
   "cell_type": "code",
   "execution_count": 46,
   "metadata": {},
   "outputs": [
    {
     "name": "stdout",
     "output_type": "stream",
     "text": [
      "Index(['Bearer Id', 'Start', 'Start ms', 'End', 'End ms', 'Dur. (ms)', 'IMSI',\n",
      "       'MSISDN/Number', 'IMEI', 'Last Location Name', 'Avg RTT DL (ms)',\n",
      "       'Avg RTT UL (ms)', 'Avg Bearer TP DL (kbps)', 'Avg Bearer TP UL (kbps)',\n",
      "       'TCP DL Retrans. Vol (Bytes)', 'TCP UL Retrans. Vol (Bytes)',\n",
      "       'DL TP < 50 Kbps (%)', '50 Kbps < DL TP < 250 Kbps (%)',\n",
      "       '250 Kbps < DL TP < 1 Mbps (%)', 'DL TP > 1 Mbps (%)',\n",
      "       'UL TP < 10 Kbps (%)', '10 Kbps < UL TP < 50 Kbps (%)',\n",
      "       '50 Kbps < UL TP < 300 Kbps (%)', 'UL TP > 300 Kbps (%)',\n",
      "       'HTTP DL (Bytes)', 'HTTP UL (Bytes)', 'Activity Duration DL (ms)',\n",
      "       'Activity Duration UL (ms)', 'Dur. (ms).1', 'Handset Manufacturer',\n",
      "       'Handset Type', 'Nb of sec with 125000B < Vol DL',\n",
      "       'Nb of sec with 1250B < Vol UL < 6250B',\n",
      "       'Nb of sec with 31250B < Vol DL < 125000B',\n",
      "       'Nb of sec with 37500B < Vol UL',\n",
      "       'Nb of sec with 6250B < Vol DL < 31250B',\n",
      "       'Nb of sec with 6250B < Vol UL < 37500B',\n",
      "       'Nb of sec with Vol DL < 6250B', 'Nb of sec with Vol UL < 1250B',\n",
      "       'Social Media DL (Bytes)', 'Social Media UL (Bytes)',\n",
      "       'Google DL (Bytes)', 'Google UL (Bytes)', 'Email DL (Bytes)',\n",
      "       'Email UL (Bytes)', 'Youtube DL (Bytes)', 'Youtube UL (Bytes)',\n",
      "       'Netflix DL (Bytes)', 'Netflix UL (Bytes)', 'Gaming DL (Bytes)',\n",
      "       'Gaming UL (Bytes)', 'Other DL (Bytes)', 'Other UL (Bytes)',\n",
      "       'Total UL (Bytes)', 'Total DL (Bytes)'],\n",
      "      dtype='object')\n"
     ]
    }
   ],
   "source": [
    "#List of column names\n",
    "print(df.columns)"
   ]
  },
  {
   "cell_type": "code",
   "execution_count": 40,
   "metadata": {},
   "outputs": [],
   "source": [
    "# Find out the missing values\n",
    "df.isna().sum()"
   ]
  },
  {
   "cell_type": "code",
   "execution_count": null,
   "metadata": {},
   "outputs": [],
   "source": [
    "# Generate descriptive statistics\n",
    "df.describe()"
   ]
  },
  {
   "cell_type": "code",
   "execution_count": null,
   "metadata": {},
   "outputs": [],
   "source": [
    "#Returning a tuple with dimensions of the dataframe\n",
    "print(df.shape)"
   ]
  },
  {
   "cell_type": "markdown",
   "metadata": {},
   "source": [
    "## Task 2 sub tasks."
   ]
  },
  {
   "cell_type": "code",
   "execution_count": 50,
   "metadata": {},
   "outputs": [
    {
     "name": "stdout",
     "output_type": "stream",
     "text": [
      "Top 10 Handsets:\n",
      "Handset Type\n",
      "Huawei B528S-23A                19752\n",
      "Apple iPhone 6S (A1688)          9419\n",
      "Apple iPhone 6 (A1586)           9023\n",
      "undefined                        8987\n",
      "Apple iPhone 7 (A1778)           6326\n",
      "Apple iPhone Se (A1723)          5187\n",
      "Apple iPhone 8 (A1905)           4993\n",
      "Apple iPhone Xr (A2105)          4568\n",
      "Samsung Galaxy S8 (Sm-G950F)     4520\n",
      "Apple iPhone X (A1901)           3813\n",
      "Name: count, dtype: int64\n"
     ]
    }
   ],
   "source": [
    "# Identifying top 10 handsets used by the customers.\n",
    "top_10_handsets = df['Handset Type'].value_counts().head(10)\n",
    "print(\"Top 10 Handsets:\")\n",
    "print(top_10_handsets)"
   ]
  },
  {
   "cell_type": "code",
   "execution_count": 52,
   "metadata": {},
   "outputs": [
    {
     "name": "stdout",
     "output_type": "stream",
     "text": [
      "Top 3 Handset Manufacturers:\n",
      "Handset Manufacturer\n",
      "Apple      59565\n",
      "Samsung    40839\n",
      "Huawei     34423\n",
      "Name: count, dtype: int64\n"
     ]
    }
   ],
   "source": [
    "#Identify the top 3 handset manufacturers by count\n",
    "top_3_manufacturers = df['Handset Manufacturer'].value_counts().head(3)\n",
    "\n",
    "print(\"Top 3 Handset Manufacturers:\")\n",
    "print(top_3_manufacturers)"
   ]
  },
  {
   "cell_type": "code",
   "execution_count": 57,
   "metadata": {},
   "outputs": [
    {
     "name": "stdout",
     "output_type": "stream",
     "text": [
      "Top 5 Handsets per Top 3 of the Handset Manufacturers:\n",
      "Handset Manufacturer  Handset Type                  \n",
      "Apple                 Apple iPhone 6S (A1688)            9419\n",
      "                      Apple iPhone 6 (A1586)             9023\n",
      "                      Apple iPhone 7 (A1778)             6326\n",
      "                      Apple iPhone Se (A1723)            5187\n",
      "                      Apple iPhone 8 (A1905)             4993\n",
      "Huawei                Huawei B528S-23A                  19752\n",
      "                      Huawei E5180                       2079\n",
      "                      Huawei P20 Lite Huawei Nova 3E     2021\n",
      "                      Huawei P20                         1480\n",
      "                      Huawei Y6 2018                      997\n",
      "Samsung               Samsung Galaxy S8 (Sm-G950F)       4520\n",
      "                      Samsung Galaxy A5 Sm-A520F         3724\n",
      "                      Samsung Galaxy J5 (Sm-J530)        3696\n",
      "                      Samsung Galaxy J3 (Sm-J330)        3484\n",
      "                      Samsung Galaxy S7 (Sm-G930X)       3199\n",
      "Name: count, dtype: int64\n"
     ]
    }
   ],
   "source": [
    "#Find out the top 5 handsets in each of the top three manufactures\n",
    "top_3_manufacturers = df['Handset Manufacturer'].value_counts().head(3).index.tolist()\n",
    "filtered_df = df[df['Handset Manufacturer'].isin(top_3_manufacturers)]\n",
    "top_5_handsets_per_manufacturer = filtered_df.groupby('Handset Manufacturer')['Handset Type'].value_counts().groupby('Handset Manufacturer').head(5)\n",
    "\n",
    "print(\"Top 5 Handsets per Top 3 of the Handset Manufacturers:\")\n",
    "print(top_5_handsets_per_manufacturer)"
   ]
  },
  {
   "cell_type": "code",
   "execution_count": 58,
   "metadata": {},
   "outputs": [
    {
     "name": "stdout",
     "output_type": "stream",
     "text": [
      "Botttom 5 Handsets per bottom 3 of the Handset Manufacturers:\n",
      "Handset Manufacturer              Handset Type                    \n",
      "Mobiwire Sas                      Mobiwire Sas Mobiwire Auriga        1\n",
      "Shenzhen Gaoxinqi                 Shenzhen Gaoxinq. Gaoxinqi Et110    1\n",
      "Vastking Technology (Hk) Limited  Vastking Technol. Vastking M750     1\n",
      "Name: count, dtype: int64\n"
     ]
    }
   ],
   "source": [
    "#Find out the bottom 5 handsets in each of the bottom three manufactures\n",
    "bottom_3_manufacturers = df['Handset Manufacturer'].value_counts().tail(3).index.tolist()\n",
    "filtered_df = df[df['Handset Manufacturer'].isin(bottom_3_manufacturers)]\n",
    "bottom_5_handsets_per_manufacturer = filtered_df.groupby('Handset Manufacturer')['Handset Type'].value_counts().groupby('Handset Manufacturer').tail(5)\n",
    "\n",
    "print(\"Botttom 5 Handsets per bottom 3 of the Handset Manufacturers:\")\n",
    "print(bottom_5_handsets_per_manufacturer)"
   ]
  },
  {
   "cell_type": "code",
   "execution_count": null,
   "metadata": {},
   "outputs": [],
   "source": [
    "# Interpretation:\n",
    "# The most used handset is Huawei B528S-23A.  It is also the only handset from the Huawei Manufacturer that appears in the top 10 most used handsets.\n",
    "# I phone handsets seem to have the highest number of users as they take up 7 positions in top 10 mosted used handsets. \n",
    "# The top three handset manufacturers are Apple, Samsung, huawei respectively with each producing over 34400 handsets.\n",
    "# In each the top 3 manufacturers, the leading handset also appears in the top 10 of the most used handsets. Also, all the top 5 handsets in the manufacturer, Apple, also \n",
    "# appear in the top 10 most used handsets overall.\n",
    "\n",
    "# Recommendations:\n",
    "# The marketing team should consider partnering with the handset manufactures, in a mutually benefitting way, in order to give promotions to customers using the top 10 handsets to enhance customer retention.\n",
    "# They could also do the same for the least used handsets in order to broaden their customer base. \n"
   ]
  },
  {
   "cell_type": "markdown",
   "metadata": {},
   "source": [
    "# Task 2.1\n",
    "## Overview of the users behaviour."
   ]
  },
  {
   "cell_type": "code",
   "execution_count": 60,
   "metadata": {},
   "outputs": [],
   "source": [
    "# Select columns pertaining to applications and user data\n",
    "user_app_columns = ['Bearer Id', 'Handset Manufacturer', 'Handset Type', 'Social Media DL (Bytes)',\n",
    "                    'Social Media UL (Bytes)', 'Google DL (Bytes)', 'Google UL (Bytes)',\n",
    "                    'Email DL (Bytes)', 'Email UL (Bytes)', 'Youtube DL (Bytes)', 'Youtube UL (Bytes)',\n",
    "                    'Netflix DL (Bytes)', 'Netflix UL (Bytes)', 'Gaming DL (Bytes)', 'Gaming UL (Bytes)',\n",
    "                    'Other DL (Bytes)', 'Other UL (Bytes)']\n",
    "\n",
    "#   Create a dataframe with a subset of columns from the original DataFrame 'df'\n",
    "df_user_apps = df[user_app_columns]"
   ]
  },
  {
   "cell_type": "code",
   "execution_count": null,
   "metadata": {},
   "outputs": [],
   "source": [
    "# To count the number of xDR sessions per user\n",
    "\n",
    "df_user_apps['Number of xDR Sessions'] = df_user_apps.groupby('Bearer Id')['Bearer Id'].transform('count')"
   ]
  },
  {
   "cell_type": "code",
   "execution_count": null,
   "metadata": {},
   "outputs": [],
   "source": [
    "# Extracting the relevant columns for the result\n",
    "result_columns = ['Bearer Id', 'Handset Manufacturer', 'Handset Type', 'Number of xDR Sessions']\n",
    "\n",
    "result = df_user_apps[result_columns].drop_duplicates().reset_index(drop=True)\n",
    "print(result)"
   ]
  },
  {
   "cell_type": "code",
   "execution_count": null,
   "metadata": {},
   "outputs": [],
   "source": []
  },
  {
   "cell_type": "code",
   "execution_count": null,
   "metadata": {},
   "outputs": [],
   "source": []
  }
 ],
 "metadata": {
  "kernelspec": {
   "display_name": "programmingexpert",
   "language": "python",
   "name": "python3"
  },
  "language_info": {
   "codemirror_mode": {
    "name": "ipython",
    "version": 3
   },
   "file_extension": ".py",
   "mimetype": "text/x-python",
   "name": "python",
   "nbconvert_exporter": "python",
   "pygments_lexer": "ipython3",
   "version": "3.11.5"
  }
 },
 "nbformat": 4,
 "nbformat_minor": 2
}
